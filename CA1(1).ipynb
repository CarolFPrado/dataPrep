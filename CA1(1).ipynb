{
 "cells": [
  {
   "attachments": {
    "image.png": {
     "image/png": "[encoded data removed]"
    }
   },
   "cell_type": "markdown",
   "id": "088a8675",
   "metadata": {},
   "source": [
    "![image.png](attachment:image.png)\n",
    "\n",
    "\n",
    "                                        CONTINUOUS ASSESSMENT / ASSIGNMENT;\n",
    "\n",
    "Programme Title/Year:\tBSc Computing in IT Y4;\n",
    "\n",
    "Module Title(s):\tData Visualization and Communication;\n",
    "\n",
    "Lecturer Name(s)\tSam Weiss;\n",
    "\n",
    "Assessment Title:\tCA1;\n",
    "\n",
    "Student Name: Carolina Franco do Prado;\n",
    "\n",
    "Student Number: 2020354\n"
   ]
  },
  {
   "cell_type": "markdown",
   "id": "e4178d3c",
   "metadata": {},
   "source": [
    "# Introduction\n",
    "\n",
    "The following assessment aims to analyze visualization techniques critically in terms of how well they work for various problem domains, choose the best data visualization methods based on the features of the data and the use case and for the data collection (that is the fortune500.csv file provided by the lecturer), suggest, design, create, and implement an interactive data visualisation solution. Throughout the process, provide a detailed explanation of the reasoning behind the strategy and visualisation techniques selected as suggested by the lecturer. The present assessment is following the CCT College Dublin guide lines.\n",
    "\n",
    "\n"
   ]
  },
  {
   "cell_type": "markdown",
   "id": "57a888d4",
   "metadata": {},
   "source": [
    "## Importing libraries"
   ]
  },
  {
   "cell_type": "code",
   "execution_count": 1,
   "id": "77c74cea",
   "metadata": {},
   "outputs": [],
   "source": [
    "import pandas as pd\n",
    "import matplotlib.pyplot as plt\n",
    "import seaborn as sns\n",
    "import numpy as np"
   ]
  },
  {
   "cell_type": "markdown",
   "id": "3e6037d5",
   "metadata": {},
   "source": [
    "## Setting the dataset"
   ]
  },
  {
   "cell_type": "code",
   "execution_count": 2,
   "id": "747694a7",
   "metadata": {},
   "outputs": [],
   "source": [
    "df = pd.read_csv(\"fortune500.csv\")"
   ]
  },
  {
   "cell_type": "code",
   "execution_count": 3,
   "id": "96e7c838",
   "metadata": {},
   "outputs": [
    {
     "data": {
      "text/html": [
       "<div>\n",
       "<style scoped>\n",
       "    .dataframe tbody tr th:only-of-type {\n",
       "        vertical-align: middle;\n",
       "    }\n",
       "\n",
       "    .dataframe tbody tr th {\n",
       "        vertical-align: top;\n",
       "    }\n",
       "\n",
       "    .dataframe thead th {\n",
       "        text-align: right;\n",
       "    }\n",
       "</style>\n",
       "<table border=\"1\" class=\"dataframe\">\n",
       "  <thead>\n",
       "    <tr style=\"text-align: right;\">\n",
       "      <th></th>\n",
       "      <th>Year</th>\n",
       "      <th>Rank</th>\n",
       "      <th>Company</th>\n",
       "      <th>Revenue (in millions)</th>\n",
       "      <th>Profit (in millions)</th>\n",
       "    </tr>\n",
       "  </thead>\n",
       "  <tbody>\n",
       "    <tr>\n",
       "      <th>0</th>\n",
       "      <td>1955</td>\n",
       "      <td>1</td>\n",
       "      <td>General Motors</td>\n",
       "      <td>9823.5</td>\n",
       "      <td>806</td>\n",
       "    </tr>\n",
       "    <tr>\n",
       "      <th>1</th>\n",
       "      <td>1955</td>\n",
       "      <td>2</td>\n",
       "      <td>Exxon Mobil</td>\n",
       "      <td>5661.4</td>\n",
       "      <td>584.8</td>\n",
       "    </tr>\n",
       "    <tr>\n",
       "      <th>2</th>\n",
       "      <td>1955</td>\n",
       "      <td>3</td>\n",
       "      <td>U.S. Steel</td>\n",
       "      <td>3250.4</td>\n",
       "      <td>195.4</td>\n",
       "    </tr>\n",
       "    <tr>\n",
       "      <th>3</th>\n",
       "      <td>1955</td>\n",
       "      <td>4</td>\n",
       "      <td>General Electric</td>\n",
       "      <td>2959.1</td>\n",
       "      <td>212.6</td>\n",
       "    </tr>\n",
       "    <tr>\n",
       "      <th>4</th>\n",
       "      <td>1955</td>\n",
       "      <td>5</td>\n",
       "      <td>Esmark</td>\n",
       "      <td>2510.8</td>\n",
       "      <td>19.1</td>\n",
       "    </tr>\n",
       "  </tbody>\n",
       "</table>\n",
       "</div>"
      ],
      "text/plain": [
       "   Year  Rank           Company  Revenue (in millions) Profit (in millions)\n",
       "0  1955     1    General Motors                 9823.5                  806\n",
       "1  1955     2       Exxon Mobil                 5661.4                584.8\n",
       "2  1955     3        U.S. Steel                 3250.4                195.4\n",
       "3  1955     4  General Electric                 2959.1                212.6\n",
       "4  1955     5            Esmark                 2510.8                 19.1"
      ]
     },
     "execution_count": 3,
     "metadata": {},
     "output_type": "execute_result"
    }
   ],
   "source": [
    "df.head()"
   ]
  },
  {
   "cell_type": "markdown",
   "id": "4d0629cc",
   "metadata": {},
   "source": [
    "# 1. The following data aims to present an insight about how the top 20 companies' Revenue were distributed in 1971. "
   ]
  },
  {
   "cell_type": "markdown",
   "id": "82fae2e4",
   "metadata": {},
   "source": [
    "### Some data from column Revenue (in millions) are not float, so for the code to work correctly it need to be parse to float and it is done in the line below:"
   ]
  },
  {
   "cell_type": "code",
   "execution_count": 4,
   "id": "c47fdd6f",
   "metadata": {},
   "outputs": [],
   "source": [
    "df['Revenue (in millions)'].astype(float). inplace = True"
   ]
  },
  {
   "cell_type": "markdown",
   "id": "93198687",
   "metadata": {},
   "source": [
    "### Replace empty values for \"True\" in case it exist in the column Year and Revenue (in millions)"
   ]
  },
  {
   "cell_type": "code",
   "execution_count": 5,
   "id": "c2697607",
   "metadata": {},
   "outputs": [],
   "source": [
    "df1971 = df[ (df[\"Year\"] == 1971) & (df[\"Revenue (in millions)\"].notna()) ]"
   ]
  },
  {
   "cell_type": "markdown",
   "id": "69a05c5f",
   "metadata": {},
   "source": [
    "### The following line will sum the revenue by company"
   ]
  },
  {
   "cell_type": "code",
   "execution_count": 6,
   "id": "00bce1c0",
   "metadata": {},
   "outputs": [],
   "source": [
    "dfsum = df1971.groupby(\"Company\")[\"Revenue (in millions)\"].sum()"
   ]
  },
  {
   "cell_type": "markdown",
   "id": "a4ff5da5",
   "metadata": {},
   "source": [
    "### It will sort the revenue values by descending"
   ]
  },
  {
   "cell_type": "code",
   "execution_count": 7,
   "id": "bc2c7eb8",
   "metadata": {},
   "outputs": [],
   "source": [
    "dfRevenue = dfsum.reset_index().sort_values(\"Revenue (in millions)\", ascending=False)"
   ]
  },
  {
   "cell_type": "markdown",
   "id": "55e141d6",
   "metadata": {},
   "source": [
    "### Selecting the 20 top companies"
   ]
  },
  {
   "cell_type": "code",
   "execution_count": 8,
   "id": "b63d2757",
   "metadata": {},
   "outputs": [],
   "source": [
    "top20=dfRevenue.head(20)"
   ]
  },
  {
   "cell_type": "code",
   "execution_count": 9,
   "id": "95d2ce24",
   "metadata": {},
   "outputs": [
    {
     "data": {
      "text/html": [
       "<div>\n",
       "<style scoped>\n",
       "    .dataframe tbody tr th:only-of-type {\n",
       "        vertical-align: middle;\n",
       "    }\n",
       "\n",
       "    .dataframe tbody tr th {\n",
       "        vertical-align: top;\n",
       "    }\n",
       "\n",
       "    .dataframe thead th {\n",
       "        text-align: right;\n",
       "    }\n",
       "</style>\n",
       "<table border=\"1\" class=\"dataframe\">\n",
       "  <thead>\n",
       "    <tr style=\"text-align: right;\">\n",
       "      <th></th>\n",
       "      <th>Company</th>\n",
       "      <th>Revenue (in millions)</th>\n",
       "    </tr>\n",
       "  </thead>\n",
       "  <tbody>\n",
       "    <tr>\n",
       "      <th>205</th>\n",
       "      <td>General Motors</td>\n",
       "      <td>18752.4</td>\n",
       "    </tr>\n",
       "    <tr>\n",
       "      <th>171</th>\n",
       "      <td>Exxon Mobil</td>\n",
       "      <td>16554.2</td>\n",
       "    </tr>\n",
       "    <tr>\n",
       "      <th>187</th>\n",
       "      <td>Ford Motor</td>\n",
       "      <td>14979.9</td>\n",
       "    </tr>\n",
       "    <tr>\n",
       "      <th>200</th>\n",
       "      <td>General Electric</td>\n",
       "      <td>8726.7</td>\n",
       "    </tr>\n",
       "    <tr>\n",
       "      <th>266</th>\n",
       "      <td>Intl. Business Machines</td>\n",
       "      <td>7504.0</td>\n",
       "    </tr>\n",
       "    <tr>\n",
       "      <th>329</th>\n",
       "      <td>Mobil</td>\n",
       "      <td>7260.5</td>\n",
       "    </tr>\n",
       "    <tr>\n",
       "      <th>108</th>\n",
       "      <td>Chrysler</td>\n",
       "      <td>6999.7</td>\n",
       "    </tr>\n",
       "    <tr>\n",
       "      <th>252</th>\n",
       "      <td>ITT Industries</td>\n",
       "      <td>6364.5</td>\n",
       "    </tr>\n",
       "    <tr>\n",
       "      <th>447</th>\n",
       "      <td>Texaco</td>\n",
       "      <td>6349.8</td>\n",
       "    </tr>\n",
       "    <tr>\n",
       "      <th>9</th>\n",
       "      <td>AT&amp;T Technologies</td>\n",
       "      <td>5856.2</td>\n",
       "    </tr>\n",
       "    <tr>\n",
       "      <th>226</th>\n",
       "      <td>Gulf Oil</td>\n",
       "      <td>5396.2</td>\n",
       "    </tr>\n",
       "    <tr>\n",
       "      <th>463</th>\n",
       "      <td>U.S. Steel</td>\n",
       "      <td>4814.4</td>\n",
       "    </tr>\n",
       "    <tr>\n",
       "      <th>83</th>\n",
       "      <td>CBS</td>\n",
       "      <td>4313.4</td>\n",
       "    </tr>\n",
       "    <tr>\n",
       "      <th>105</th>\n",
       "      <td>ChevronTexaco</td>\n",
       "      <td>4187.8</td>\n",
       "    </tr>\n",
       "    <tr>\n",
       "      <th>294</th>\n",
       "      <td>LTV</td>\n",
       "      <td>3771.7</td>\n",
       "    </tr>\n",
       "    <tr>\n",
       "      <th>32</th>\n",
       "      <td>Amoco</td>\n",
       "      <td>3732.8</td>\n",
       "    </tr>\n",
       "    <tr>\n",
       "      <th>71</th>\n",
       "      <td>Boeing</td>\n",
       "      <td>3677.1</td>\n",
       "    </tr>\n",
       "    <tr>\n",
       "      <th>154</th>\n",
       "      <td>DuPont</td>\n",
       "      <td>3618.4</td>\n",
       "    </tr>\n",
       "    <tr>\n",
       "      <th>418</th>\n",
       "      <td>Shell Oil</td>\n",
       "      <td>3589.5</td>\n",
       "    </tr>\n",
       "    <tr>\n",
       "      <th>208</th>\n",
       "      <td>General Telephone &amp; Electronics</td>\n",
       "      <td>3439.2</td>\n",
       "    </tr>\n",
       "  </tbody>\n",
       "</table>\n",
       "</div>"
      ],
      "text/plain": [
       "                             Company  Revenue (in millions)\n",
       "205                   General Motors                18752.4\n",
       "171                      Exxon Mobil                16554.2\n",
       "187                       Ford Motor                14979.9\n",
       "200                 General Electric                 8726.7\n",
       "266          Intl. Business Machines                 7504.0\n",
       "329                            Mobil                 7260.5\n",
       "108                         Chrysler                 6999.7\n",
       "252                   ITT Industries                 6364.5\n",
       "447                           Texaco                 6349.8\n",
       "9                  AT&T Technologies                 5856.2\n",
       "226                         Gulf Oil                 5396.2\n",
       "463                       U.S. Steel                 4814.4\n",
       "83                               CBS                 4313.4\n",
       "105                    ChevronTexaco                 4187.8\n",
       "294                              LTV                 3771.7\n",
       "32                             Amoco                 3732.8\n",
       "71                            Boeing                 3677.1\n",
       "154                           DuPont                 3618.4\n",
       "418                        Shell Oil                 3589.5\n",
       "208  General Telephone & Electronics                 3439.2"
      ]
     },
     "execution_count": 9,
     "metadata": {},
     "output_type": "execute_result"
    }
   ],
   "source": [
    "top20"
   ]
  },
  {
   "cell_type": "code",
   "execution_count": 10,
   "id": "67757e37",
   "metadata": {},
   "outputs": [
    {
     "data": {
      "image/png": "[encoded data removed]",
      "text/plain": [
       "<Figure size 432x288 with 1 Axes>"
      ]
     },
     "metadata": {
      "needs_background": "light"
     },
     "output_type": "display_data"
    }
   ],
   "source": [
    "top20.plot(x = \"Company\", y = \"Revenue (in millions)\", kind = \"bar\" );"
   ]
  },
  {
   "cell_type": "markdown",
   "id": "2481a688",
   "metadata": {},
   "source": [
    "The plot above aim to compare the revenue from all the 20 companies in 1971 as said previously. The plot using the matplotlib framework was used to give a clear understanding which company was ahead on the race. \n",
    "\n",
    "We can clearly see that between the 20 best companies General Motors is the one that was ahead on the marks, with Exxon Mobil after, followed by Ford Motors\n",
    "______________________________________"
   ]
  },
  {
   "cell_type": "markdown",
   "id": "909e1bb1",
   "metadata": {},
   "source": [
    "# 2. The target of the following data is to present the Top 10 Company’s which had their profit increased the most between 1990 and 1999"
   ]
  },
  {
   "cell_type": "code",
   "execution_count": 11,
   "id": "43a2ba25",
   "metadata": {},
   "outputs": [],
   "source": [
    "import pandas as pd\n",
    "import matplotlib.pyplot as plt\n",
    "import seaborn as sns\n",
    "import numpy as np"
   ]
  },
  {
   "cell_type": "code",
   "execution_count": 12,
   "id": "f556a55c",
   "metadata": {},
   "outputs": [],
   "source": [
    "df = pd.read_csv(\"fortune500.csv\")"
   ]
  },
  {
   "cell_type": "markdown",
   "id": "28259020",
   "metadata": {},
   "source": [
    "### The column \"Profit (in millions)\" is a string as shown below, so to be able to calculate it we need to change the data type to float"
   ]
  },
  {
   "cell_type": "code",
   "execution_count": 13,
   "id": "b6d524aa",
   "metadata": {},
   "outputs": [
    {
     "data": {
      "text/plain": [
       "str"
      ]
     },
     "execution_count": 13,
     "metadata": {},
     "output_type": "execute_result"
    }
   ],
   "source": [
    "type(\"Profit (in millions)\")"
   ]
  },
  {
   "cell_type": "markdown",
   "id": "58ba2387",
   "metadata": {},
   "source": [
    "## Change the name of the columns to be easier to type"
   ]
  },
  {
   "cell_type": "code",
   "execution_count": 14,
   "id": "0ab50017",
   "metadata": {},
   "outputs": [],
   "source": [
    "df.columns = [\"year\", \"rank\", \"company\", \"revenue\", \"profit\"]\n"
   ]
  },
  {
   "cell_type": "markdown",
   "id": "5ad2c4bc",
   "metadata": {},
   "source": [
    "## Dropping line from the dataset that do not have the profit information "
   ]
  },
  {
   "cell_type": "code",
   "execution_count": 15,
   "id": "d6160326",
   "metadata": {},
   "outputs": [],
   "source": [
    "df = df[df[\"profit\"] != \"N.A.\"]"
   ]
  },
  {
   "cell_type": "markdown",
   "id": "2d0ccb79",
   "metadata": {},
   "source": [
    "## Change the column \"profit\" data type to float"
   ]
  },
  {
   "cell_type": "code",
   "execution_count": 16,
   "id": "34a7b6a5",
   "metadata": {},
   "outputs": [],
   "source": [
    "df[\"profit\"] = df[\"profit\"].astype(float)"
   ]
  },
  {
   "cell_type": "markdown",
   "id": "518f03b5",
   "metadata": {},
   "source": [
    "## Creating a new dataset with the changes in the \"profit\" column"
   ]
  },
  {
   "cell_type": "code",
   "execution_count": 17,
   "id": "6365091d",
   "metadata": {},
   "outputs": [],
   "source": [
    "df.to_csv(\"dsPM.csv\", index=False)"
   ]
  },
  {
   "cell_type": "code",
   "execution_count": 18,
   "id": "b2981532",
   "metadata": {},
   "outputs": [],
   "source": [
    "df1 = pd.read_csv(\"dsPM.csv\")"
   ]
  },
  {
   "cell_type": "code",
   "execution_count": 19,
   "id": "a2fd487c",
   "metadata": {},
   "outputs": [
    {
     "data": {
      "text/plain": [
       "year         int64\n",
       "rank         int64\n",
       "company     object\n",
       "revenue    float64\n",
       "profit     float64\n",
       "dtype: object"
      ]
     },
     "execution_count": 19,
     "metadata": {},
     "output_type": "execute_result"
    }
   ],
   "source": [
    "df1.dtypes"
   ]
  },
  {
   "cell_type": "markdown",
   "id": "6dbc1902",
   "metadata": {},
   "source": [
    "## Group by decade and company, and sum the profit"
   ]
  },
  {
   "cell_type": "code",
   "execution_count": 20,
   "id": "665fece7",
   "metadata": {},
   "outputs": [],
   "source": [
    "dfdecade = df1.groupby([\"profit\", \"company\"])[\"year\"].sum()"
   ]
  },
  {
   "cell_type": "code",
   "execution_count": 21,
   "id": "aa9b1f15",
   "metadata": {},
   "outputs": [
    {
     "data": {
      "text/plain": [
       "profit    company             \n",
       "-98696.0  Time Warner             2003\n",
       "-56121.9  JDS Uniphase            2002\n",
       "-35913.0  Qwest Communications    2003\n",
       "-23498.3  General Motors          1993\n",
       "-17462.2  Viacom                  2005\n",
       "                                  ... \n",
       " 17720.0  Exxon Mobil             2001\n",
       " 17853.0  Citigroup               2004\n",
       " 21510.0  Exxon Mobil             2004\n",
       " 22071.0  Ford Motor              1999\n",
       " 25330.0  Exxon Mobil             2005\n",
       "Name: year, Length: 24603, dtype: int64"
      ]
     },
     "execution_count": 21,
     "metadata": {},
     "output_type": "execute_result"
    }
   ],
   "source": [
    "dfdecade"
   ]
  },
  {
   "cell_type": "markdown",
   "id": "83050d1f",
   "metadata": {},
   "source": [
    "## Sorting \"companies\" and grouping them"
   ]
  },
  {
   "cell_type": "code",
   "execution_count": 22,
   "id": "754f8ec7",
   "metadata": {},
   "outputs": [],
   "source": [
    "sortcomp= dfdecade.reset_index().sort_values(\"company\", ascending=False).groupby([\"company\"]).first().reset_index()"
   ]
  },
  {
   "cell_type": "code",
   "execution_count": 23,
   "id": "c22f0450",
   "metadata": {},
   "outputs": [
    {
     "data": {
      "text/html": [
       "<div>\n",
       "<style scoped>\n",
       "    .dataframe tbody tr th:only-of-type {\n",
       "        vertical-align: middle;\n",
       "    }\n",
       "\n",
       "    .dataframe tbody tr th {\n",
       "        vertical-align: top;\n",
       "    }\n",
       "\n",
       "    .dataframe thead th {\n",
       "        text-align: right;\n",
       "    }\n",
       "</style>\n",
       "<table border=\"1\" class=\"dataframe\">\n",
       "  <thead>\n",
       "    <tr style=\"text-align: right;\">\n",
       "      <th></th>\n",
       "      <th>company</th>\n",
       "      <th>profit</th>\n",
       "      <th>year</th>\n",
       "    </tr>\n",
       "  </thead>\n",
       "  <tbody>\n",
       "    <tr>\n",
       "      <th>0</th>\n",
       "      <td>3Com</td>\n",
       "      <td>403.9</td>\n",
       "      <td>2000</td>\n",
       "    </tr>\n",
       "    <tr>\n",
       "      <th>1</th>\n",
       "      <td>3M</td>\n",
       "      <td>1430.0</td>\n",
       "      <td>2002</td>\n",
       "    </tr>\n",
       "    <tr>\n",
       "      <th>2</th>\n",
       "      <td>A-T-O</td>\n",
       "      <td>9.2</td>\n",
       "      <td>1968</td>\n",
       "    </tr>\n",
       "    <tr>\n",
       "      <th>3</th>\n",
       "      <td>A. Schulman</td>\n",
       "      <td>36.1</td>\n",
       "      <td>1991</td>\n",
       "    </tr>\n",
       "    <tr>\n",
       "      <th>4</th>\n",
       "      <td>A.H. Robins</td>\n",
       "      <td>58.2</td>\n",
       "      <td>1984</td>\n",
       "    </tr>\n",
       "    <tr>\n",
       "      <th>...</th>\n",
       "      <td>...</td>\n",
       "      <td>...</td>\n",
       "      <td>...</td>\n",
       "    </tr>\n",
       "    <tr>\n",
       "      <th>1855</th>\n",
       "      <td>Youngstown Sheet &amp; Tube</td>\n",
       "      <td>25.7</td>\n",
       "      <td>1961</td>\n",
       "    </tr>\n",
       "    <tr>\n",
       "      <th>1856</th>\n",
       "      <td>Yuba Consolidated Industries</td>\n",
       "      <td>-2.9</td>\n",
       "      <td>1961</td>\n",
       "    </tr>\n",
       "    <tr>\n",
       "      <th>1857</th>\n",
       "      <td>Yum Brands</td>\n",
       "      <td>617.0</td>\n",
       "      <td>2004</td>\n",
       "    </tr>\n",
       "    <tr>\n",
       "      <th>1858</th>\n",
       "      <td>Zenith Electronics</td>\n",
       "      <td>18.0</td>\n",
       "      <td>1962</td>\n",
       "    </tr>\n",
       "    <tr>\n",
       "      <th>1859</th>\n",
       "      <td>Zurn Industries</td>\n",
       "      <td>28.3</td>\n",
       "      <td>1991</td>\n",
       "    </tr>\n",
       "  </tbody>\n",
       "</table>\n",
       "<p>1860 rows × 3 columns</p>\n",
       "</div>"
      ],
      "text/plain": [
       "                           company  profit  year\n",
       "0                             3Com   403.9  2000\n",
       "1                               3M  1430.0  2002\n",
       "2                            A-T-O     9.2  1968\n",
       "3                      A. Schulman    36.1  1991\n",
       "4                      A.H. Robins    58.2  1984\n",
       "...                            ...     ...   ...\n",
       "1855       Youngstown Sheet & Tube    25.7  1961\n",
       "1856  Yuba Consolidated Industries    -2.9  1961\n",
       "1857                    Yum Brands   617.0  2004\n",
       "1858            Zenith Electronics    18.0  1962\n",
       "1859               Zurn Industries    28.3  1991\n",
       "\n",
       "[1860 rows x 3 columns]"
      ]
     },
     "execution_count": 23,
     "metadata": {},
     "output_type": "execute_result"
    }
   ],
   "source": [
    "sortcomp"
   ]
  },
  {
   "cell_type": "markdown",
   "id": "f91ca78f",
   "metadata": {},
   "source": [
    "## Sorting \"profit\""
   ]
  },
  {
   "cell_type": "code",
   "execution_count": 24,
   "id": "4c030f58",
   "metadata": {},
   "outputs": [],
   "source": [
    "dfProfit = sortcomp.sort_values([\"profit\"], ascending=False)"
   ]
  },
  {
   "cell_type": "code",
   "execution_count": 25,
   "id": "4c014b3b",
   "metadata": {},
   "outputs": [
    {
     "data": {
      "text/html": [
       "<div>\n",
       "<style scoped>\n",
       "    .dataframe tbody tr th:only-of-type {\n",
       "        vertical-align: middle;\n",
       "    }\n",
       "\n",
       "    .dataframe tbody tr th {\n",
       "        vertical-align: top;\n",
       "    }\n",
       "\n",
       "    .dataframe thead th {\n",
       "        text-align: right;\n",
       "    }\n",
       "</style>\n",
       "<table border=\"1\" class=\"dataframe\">\n",
       "  <thead>\n",
       "    <tr style=\"text-align: right;\">\n",
       "      <th></th>\n",
       "      <th>company</th>\n",
       "      <th>profit</th>\n",
       "      <th>year</th>\n",
       "    </tr>\n",
       "  </thead>\n",
       "  <tbody>\n",
       "    <tr>\n",
       "      <th>200</th>\n",
       "      <td>Bank of America Corp.</td>\n",
       "      <td>10810.0</td>\n",
       "      <td>2004</td>\n",
       "    </tr>\n",
       "    <tr>\n",
       "      <th>234</th>\n",
       "      <td>Berkshire Hathaway</td>\n",
       "      <td>8151.0</td>\n",
       "      <td>2004</td>\n",
       "    </tr>\n",
       "    <tr>\n",
       "      <th>907</th>\n",
       "      <td>Intl. Business Machines</td>\n",
       "      <td>7712.0</td>\n",
       "      <td>2000</td>\n",
       "    </tr>\n",
       "    <tr>\n",
       "      <th>1809</th>\n",
       "      <td>Wells Fargo</td>\n",
       "      <td>7014.0</td>\n",
       "      <td>2005</td>\n",
       "    </tr>\n",
       "    <tr>\n",
       "      <th>665</th>\n",
       "      <td>Ford Motor</td>\n",
       "      <td>6920.0</td>\n",
       "      <td>1998</td>\n",
       "    </tr>\n",
       "    <tr>\n",
       "      <th>...</th>\n",
       "      <td>...</td>\n",
       "      <td>...</td>\n",
       "      <td>...</td>\n",
       "    </tr>\n",
       "    <tr>\n",
       "      <th>1180</th>\n",
       "      <td>NTL Europe</td>\n",
       "      <td>-4282.8</td>\n",
       "      <td>2002</td>\n",
       "    </tr>\n",
       "    <tr>\n",
       "      <th>1579</th>\n",
       "      <td>State Farm Insurance Cos</td>\n",
       "      <td>-4995.7</td>\n",
       "      <td>2002</td>\n",
       "    </tr>\n",
       "    <tr>\n",
       "      <th>300</th>\n",
       "      <td>CIT Group</td>\n",
       "      <td>-6698.7</td>\n",
       "      <td>2003</td>\n",
       "    </tr>\n",
       "    <tr>\n",
       "      <th>1042</th>\n",
       "      <td>Lucent Technologies</td>\n",
       "      <td>-16198.0</td>\n",
       "      <td>2002</td>\n",
       "    </tr>\n",
       "    <tr>\n",
       "      <th>922</th>\n",
       "      <td>JDS Uniphase</td>\n",
       "      <td>-56121.9</td>\n",
       "      <td>2002</td>\n",
       "    </tr>\n",
       "  </tbody>\n",
       "</table>\n",
       "<p>1860 rows × 3 columns</p>\n",
       "</div>"
      ],
      "text/plain": [
       "                       company   profit  year\n",
       "200      Bank of America Corp.  10810.0  2004\n",
       "234         Berkshire Hathaway   8151.0  2004\n",
       "907    Intl. Business Machines   7712.0  2000\n",
       "1809               Wells Fargo   7014.0  2005\n",
       "665                 Ford Motor   6920.0  1998\n",
       "...                        ...      ...   ...\n",
       "1180                NTL Europe  -4282.8  2002\n",
       "1579  State Farm Insurance Cos  -4995.7  2002\n",
       "300                  CIT Group  -6698.7  2003\n",
       "1042       Lucent Technologies -16198.0  2002\n",
       "922               JDS Uniphase -56121.9  2002\n",
       "\n",
       "[1860 rows x 3 columns]"
      ]
     },
     "execution_count": 25,
     "metadata": {},
     "output_type": "execute_result"
    }
   ],
   "source": [
    "dfProfit"
   ]
  },
  {
   "cell_type": "markdown",
   "id": "d4d49dc7",
   "metadata": {},
   "source": [
    "## Selecting all the years between 1990 to 1999"
   ]
  },
  {
   "cell_type": "code",
   "execution_count": 26,
   "id": "f71e8e79",
   "metadata": {},
   "outputs": [],
   "source": [
    "decade90 = dfProfit[(dfProfit[\"year\"] < 1999) & (dfProfit[\"year\"] > 1990)]"
   ]
  },
  {
   "cell_type": "code",
   "execution_count": 27,
   "id": "7d22a828",
   "metadata": {},
   "outputs": [
    {
     "data": {
      "text/html": [
       "<div>\n",
       "<style scoped>\n",
       "    .dataframe tbody tr th:only-of-type {\n",
       "        vertical-align: middle;\n",
       "    }\n",
       "\n",
       "    .dataframe tbody tr th {\n",
       "        vertical-align: top;\n",
       "    }\n",
       "\n",
       "    .dataframe thead th {\n",
       "        text-align: right;\n",
       "    }\n",
       "</style>\n",
       "<table border=\"1\" class=\"dataframe\">\n",
       "  <thead>\n",
       "    <tr style=\"text-align: right;\">\n",
       "      <th></th>\n",
       "      <th>company</th>\n",
       "      <th>profit</th>\n",
       "      <th>year</th>\n",
       "    </tr>\n",
       "  </thead>\n",
       "  <tbody>\n",
       "    <tr>\n",
       "      <th>665</th>\n",
       "      <td>Ford Motor</td>\n",
       "      <td>6920.0</td>\n",
       "      <td>1998</td>\n",
       "    </tr>\n",
       "    <tr>\n",
       "      <th>379</th>\n",
       "      <td>Citicorp</td>\n",
       "      <td>3788.0</td>\n",
       "      <td>1997</td>\n",
       "    </tr>\n",
       "    <tr>\n",
       "      <th>1784</th>\n",
       "      <td>Wal-Mart Stores</td>\n",
       "      <td>3526.0</td>\n",
       "      <td>1998</td>\n",
       "    </tr>\n",
       "    <tr>\n",
       "      <th>202</th>\n",
       "      <td>BankAmerica Corp.</td>\n",
       "      <td>3210.0</td>\n",
       "      <td>1998</td>\n",
       "    </tr>\n",
       "    <tr>\n",
       "      <th>380</th>\n",
       "      <td>Citigroup</td>\n",
       "      <td>3104.0</td>\n",
       "      <td>1998</td>\n",
       "    </tr>\n",
       "    <tr>\n",
       "      <th>...</th>\n",
       "      <td>...</td>\n",
       "      <td>...</td>\n",
       "      <td>...</td>\n",
       "    </tr>\n",
       "    <tr>\n",
       "      <th>1249</th>\n",
       "      <td>Nynex</td>\n",
       "      <td>-1849.9</td>\n",
       "      <td>1996</td>\n",
       "    </tr>\n",
       "    <tr>\n",
       "      <th>667</th>\n",
       "      <td>Fort Howard</td>\n",
       "      <td>-2052.1</td>\n",
       "      <td>1994</td>\n",
       "    </tr>\n",
       "    <tr>\n",
       "      <th>1292</th>\n",
       "      <td>Pacific Telesis Group</td>\n",
       "      <td>-2312.0</td>\n",
       "      <td>1996</td>\n",
       "    </tr>\n",
       "    <tr>\n",
       "      <th>369</th>\n",
       "      <td>Chrysler</td>\n",
       "      <td>-2551.0</td>\n",
       "      <td>1994</td>\n",
       "    </tr>\n",
       "    <tr>\n",
       "      <th>1143</th>\n",
       "      <td>Millennium Chemicals</td>\n",
       "      <td>-2701.0</td>\n",
       "      <td>1997</td>\n",
       "    </tr>\n",
       "  </tbody>\n",
       "</table>\n",
       "<p>389 rows × 3 columns</p>\n",
       "</div>"
      ],
      "text/plain": [
       "                    company  profit  year\n",
       "665              Ford Motor  6920.0  1998\n",
       "379                Citicorp  3788.0  1997\n",
       "1784        Wal-Mart Stores  3526.0  1998\n",
       "202       BankAmerica Corp.  3210.0  1998\n",
       "380               Citigroup  3104.0  1998\n",
       "...                     ...     ...   ...\n",
       "1249                  Nynex -1849.9  1996\n",
       "667             Fort Howard -2052.1  1994\n",
       "1292  Pacific Telesis Group -2312.0  1996\n",
       "369                Chrysler -2551.0  1994\n",
       "1143   Millennium Chemicals -2701.0  1997\n",
       "\n",
       "[389 rows x 3 columns]"
      ]
     },
     "execution_count": 27,
     "metadata": {},
     "output_type": "execute_result"
    }
   ],
   "source": [
    "decade90"
   ]
  },
  {
   "cell_type": "markdown",
   "id": "4123e893",
   "metadata": {},
   "source": [
    "## From all the 90's decade selecting the top 10 companies"
   ]
  },
  {
   "cell_type": "code",
   "execution_count": 28,
   "id": "a435e36f",
   "metadata": {},
   "outputs": [],
   "source": [
    "top10=decade90.head(10)"
   ]
  },
  {
   "cell_type": "code",
   "execution_count": 29,
   "id": "c57398a4",
   "metadata": {},
   "outputs": [
    {
     "data": {
      "text/html": [
       "<div>\n",
       "<style scoped>\n",
       "    .dataframe tbody tr th:only-of-type {\n",
       "        vertical-align: middle;\n",
       "    }\n",
       "\n",
       "    .dataframe tbody tr th {\n",
       "        vertical-align: top;\n",
       "    }\n",
       "\n",
       "    .dataframe thead th {\n",
       "        text-align: right;\n",
       "    }\n",
       "</style>\n",
       "<table border=\"1\" class=\"dataframe\">\n",
       "  <thead>\n",
       "    <tr style=\"text-align: right;\">\n",
       "      <th></th>\n",
       "      <th>company</th>\n",
       "      <th>profit</th>\n",
       "      <th>year</th>\n",
       "    </tr>\n",
       "  </thead>\n",
       "  <tbody>\n",
       "    <tr>\n",
       "      <th>665</th>\n",
       "      <td>Ford Motor</td>\n",
       "      <td>6920.0</td>\n",
       "      <td>1998</td>\n",
       "    </tr>\n",
       "    <tr>\n",
       "      <th>379</th>\n",
       "      <td>Citicorp</td>\n",
       "      <td>3788.0</td>\n",
       "      <td>1997</td>\n",
       "    </tr>\n",
       "    <tr>\n",
       "      <th>1784</th>\n",
       "      <td>Wal-Mart Stores</td>\n",
       "      <td>3526.0</td>\n",
       "      <td>1998</td>\n",
       "    </tr>\n",
       "    <tr>\n",
       "      <th>202</th>\n",
       "      <td>BankAmerica Corp.</td>\n",
       "      <td>3210.0</td>\n",
       "      <td>1998</td>\n",
       "    </tr>\n",
       "    <tr>\n",
       "      <th>380</th>\n",
       "      <td>Citigroup</td>\n",
       "      <td>3104.0</td>\n",
       "      <td>1998</td>\n",
       "    </tr>\n",
       "    <tr>\n",
       "      <th>693</th>\n",
       "      <td>GTE</td>\n",
       "      <td>2798.3</td>\n",
       "      <td>1997</td>\n",
       "    </tr>\n",
       "    <tr>\n",
       "      <th>621</th>\n",
       "      <td>Fannie Mae</td>\n",
       "      <td>2725.0</td>\n",
       "      <td>1997</td>\n",
       "    </tr>\n",
       "    <tr>\n",
       "      <th>708</th>\n",
       "      <td>General Electric</td>\n",
       "      <td>2636.0</td>\n",
       "      <td>1992</td>\n",
       "    </tr>\n",
       "    <tr>\n",
       "      <th>358</th>\n",
       "      <td>Chase Manhattan Corp.</td>\n",
       "      <td>2461.0</td>\n",
       "      <td>1997</td>\n",
       "    </tr>\n",
       "    <tr>\n",
       "      <th>1137</th>\n",
       "      <td>Microsoft</td>\n",
       "      <td>2195.0</td>\n",
       "      <td>1997</td>\n",
       "    </tr>\n",
       "  </tbody>\n",
       "</table>\n",
       "</div>"
      ],
      "text/plain": [
       "                    company  profit  year\n",
       "665              Ford Motor  6920.0  1998\n",
       "379                Citicorp  3788.0  1997\n",
       "1784        Wal-Mart Stores  3526.0  1998\n",
       "202       BankAmerica Corp.  3210.0  1998\n",
       "380               Citigroup  3104.0  1998\n",
       "693                     GTE  2798.3  1997\n",
       "621              Fannie Mae  2725.0  1997\n",
       "708        General Electric  2636.0  1992\n",
       "358   Chase Manhattan Corp.  2461.0  1997\n",
       "1137              Microsoft  2195.0  1997"
      ]
     },
     "execution_count": 29,
     "metadata": {},
     "output_type": "execute_result"
    }
   ],
   "source": [
    "top10"
   ]
  },
  {
   "cell_type": "markdown",
   "id": "6d1ace0c",
   "metadata": {},
   "source": [
    "\n",
    "## Setting a style for the plot using seaborn"
   ]
  },
  {
   "cell_type": "code",
   "execution_count": 30,
   "id": "b04fb47f",
   "metadata": {},
   "outputs": [],
   "source": [
    "sns.set(style=\"whitegrid\")"
   ]
  },
  {
   "cell_type": "markdown",
   "id": "8e6f33db",
   "metadata": {},
   "source": [
    "## Create a bar plot using seaborn to show profit increase for each company"
   ]
  },
  {
   "cell_type": "code",
   "execution_count": 31,
   "id": "630544a5",
   "metadata": {},
   "outputs": [
    {
     "data": {
      "image/png": "[encoded data removed]",
      "text/plain": [
       "<Figure size 864x432 with 1 Axes>"
      ]
     },
     "metadata": {},
     "output_type": "display_data"
    }
   ],
   "source": [
    "plt.figure(figsize=(12, 6))\n",
    "sns.barplot(x=\"company\", y=\"profit\", data=top10, palette=\"GnBu_d\")\n",
    "plt.xticks(rotation=90) \n",
    "plt.xlabel(\"Company\")\n",
    "plt.ylabel(\"Profit Increase (in millions)\")\n",
    "plt.title(\"Profit Increase of Top 10 Companies in the 1990s\")\n",
    "plt.tight_layout()\n",
    "plt.show()"
   ]
  },
  {
   "cell_type": "markdown",
   "id": "6648ec38",
   "metadata": {},
   "source": [
    "This data represents the top 10 companies based on their profits for each year respectively. The information provides insights into the companies that were leading the market in the 1990s. The plot choice was based on the clear visual and that gives us the insight needed in related to the comparison of each company's profit related to the competitors.  \n"
   ]
  },
  {
   "cell_type": "markdown",
   "id": "001d70e5",
   "metadata": {},
   "source": [
    "____________________________________"
   ]
  },
  {
   "cell_type": "markdown",
   "id": "0e1f8e11",
   "metadata": {},
   "source": [
    "# 3. The following data aim to show the 5 top Companies by Revenue for each Decade."
   ]
  },
  {
   "cell_type": "markdown",
   "id": "db103207",
   "metadata": {},
   "source": [
    "## Create a decade column by integer-dividing the year by 10 and multiplying by 10"
   ]
  },
  {
   "cell_type": "code",
   "execution_count": 32,
   "id": "66d10aea",
   "metadata": {},
   "outputs": [],
   "source": [
    "df1 [\"Decade\"] = (df1[\"year\"] // 10) * 10"
   ]
  },
  {
   "cell_type": "code",
   "execution_count": 33,
   "id": "b47c9ac6",
   "metadata": {},
   "outputs": [
    {
     "data": {
      "text/plain": [
       "0        1950\n",
       "1        1950\n",
       "2        1950\n",
       "3        1950\n",
       "4        1950\n",
       "         ... \n",
       "25126    2000\n",
       "25127    2000\n",
       "25128    2000\n",
       "25129    2000\n",
       "25130    2000\n",
       "Name: Decade, Length: 25131, dtype: int64"
      ]
     },
     "execution_count": 33,
     "metadata": {},
     "output_type": "execute_result"
    }
   ],
   "source": [
    "df1[\"Decade\"]"
   ]
  },
  {
   "cell_type": "markdown",
   "id": "dec9159e",
   "metadata": {},
   "source": [
    "## Group data by \"Decade\" and \"Company\" and summing the revenues"
   ]
  },
  {
   "cell_type": "code",
   "execution_count": 34,
   "id": "5854b9c9",
   "metadata": {},
   "outputs": [],
   "source": [
    "groupsumr = df1.groupby(['Decade', 'company'])['revenue'].sum().reset_index()"
   ]
  },
  {
   "cell_type": "markdown",
   "id": "8b55fb65",
   "metadata": {},
   "source": [
    "## Sorting \"company\" values, so we will not have duplicate values"
   ]
  },
  {
   "cell_type": "code",
   "execution_count": 35,
   "id": "89e56e62",
   "metadata": {},
   "outputs": [],
   "source": [
    "sortcomp= groupsumr.reset_index().sort_values(\"company\", ascending=False).groupby([\"company\"]).first().reset_index()"
   ]
  },
  {
   "cell_type": "markdown",
   "id": "90b66ffb",
   "metadata": {},
   "source": [
    "## Sorting \"revenue\" by descending"
   ]
  },
  {
   "cell_type": "code",
   "execution_count": 36,
   "id": "e9aff4f0",
   "metadata": {},
   "outputs": [],
   "source": [
    "asc5 = sortcomp.sort_values(by=['revenue'], ascending=False).groupby([\"Decade\"]).head(5).reset_index(drop=True)"
   ]
  },
  {
   "cell_type": "code",
   "execution_count": 37,
   "id": "a97ad65e",
   "metadata": {},
   "outputs": [
    {
     "data": {
      "text/html": [
       "<div>\n",
       "<style scoped>\n",
       "    .dataframe tbody tr th:only-of-type {\n",
       "        vertical-align: middle;\n",
       "    }\n",
       "\n",
       "    .dataframe tbody tr th {\n",
       "        vertical-align: top;\n",
       "    }\n",
       "\n",
       "    .dataframe thead th {\n",
       "        text-align: right;\n",
       "    }\n",
       "</style>\n",
       "<table border=\"1\" class=\"dataframe\">\n",
       "  <thead>\n",
       "    <tr style=\"text-align: right;\">\n",
       "      <th></th>\n",
       "      <th>company</th>\n",
       "      <th>index</th>\n",
       "      <th>Decade</th>\n",
       "      <th>revenue</th>\n",
       "    </tr>\n",
       "  </thead>\n",
       "  <tbody>\n",
       "    <tr>\n",
       "      <th>0</th>\n",
       "      <td>Wal-Mart Stores</td>\n",
       "      <td>4314</td>\n",
       "      <td>2000</td>\n",
       "      <td>1373311.0</td>\n",
       "    </tr>\n",
       "    <tr>\n",
       "      <th>1</th>\n",
       "      <td>Exxon Mobil</td>\n",
       "      <td>3902</td>\n",
       "      <td>2000</td>\n",
       "      <td>1232291.0</td>\n",
       "    </tr>\n",
       "    <tr>\n",
       "      <th>2</th>\n",
       "      <td>General Electric</td>\n",
       "      <td>3067</td>\n",
       "      <td>1990</td>\n",
       "      <td>702142.0</td>\n",
       "    </tr>\n",
       "    <tr>\n",
       "      <th>3</th>\n",
       "      <td>Citigroup</td>\n",
       "      <td>3819</td>\n",
       "      <td>2000</td>\n",
       "      <td>609631.0</td>\n",
       "    </tr>\n",
       "    <tr>\n",
       "      <th>4</th>\n",
       "      <td>ChevronTexaco</td>\n",
       "      <td>3812</td>\n",
       "      <td>2000</td>\n",
       "      <td>533391.0</td>\n",
       "    </tr>\n",
       "    <tr>\n",
       "      <th>5</th>\n",
       "      <td>Chrysler</td>\n",
       "      <td>2890</td>\n",
       "      <td>1990</td>\n",
       "      <td>404854.0</td>\n",
       "    </tr>\n",
       "    <tr>\n",
       "      <th>6</th>\n",
       "      <td>American Intl. Group</td>\n",
       "      <td>3717</td>\n",
       "      <td>2000</td>\n",
       "      <td>396662.9</td>\n",
       "    </tr>\n",
       "    <tr>\n",
       "      <th>7</th>\n",
       "      <td>General Motors</td>\n",
       "      <td>1547</td>\n",
       "      <td>1970</td>\n",
       "      <td>370182.7</td>\n",
       "    </tr>\n",
       "    <tr>\n",
       "      <th>8</th>\n",
       "      <td>AT&amp;T</td>\n",
       "      <td>2715</td>\n",
       "      <td>1990</td>\n",
       "      <td>336077.0</td>\n",
       "    </tr>\n",
       "    <tr>\n",
       "      <th>9</th>\n",
       "      <td>PepsiCo</td>\n",
       "      <td>3378</td>\n",
       "      <td>1990</td>\n",
       "      <td>242276.3</td>\n",
       "    </tr>\n",
       "    <tr>\n",
       "      <th>10</th>\n",
       "      <td>Sears Roebuck</td>\n",
       "      <td>3467</td>\n",
       "      <td>1990</td>\n",
       "      <td>210594.0</td>\n",
       "    </tr>\n",
       "    <tr>\n",
       "      <th>11</th>\n",
       "      <td>Mobil</td>\n",
       "      <td>1700</td>\n",
       "      <td>1970</td>\n",
       "      <td>175155.1</td>\n",
       "    </tr>\n",
       "    <tr>\n",
       "      <th>12</th>\n",
       "      <td>United Technologies</td>\n",
       "      <td>2654</td>\n",
       "      <td>1980</td>\n",
       "      <td>146299.3</td>\n",
       "    </tr>\n",
       "    <tr>\n",
       "      <th>13</th>\n",
       "      <td>ITT Industries</td>\n",
       "      <td>2291</td>\n",
       "      <td>1980</td>\n",
       "      <td>126308.9</td>\n",
       "    </tr>\n",
       "    <tr>\n",
       "      <th>14</th>\n",
       "      <td>Nabisco Group Holdings</td>\n",
       "      <td>2432</td>\n",
       "      <td>1980</td>\n",
       "      <td>123467.8</td>\n",
       "    </tr>\n",
       "    <tr>\n",
       "      <th>15</th>\n",
       "      <td>Dow Chemical</td>\n",
       "      <td>2156</td>\n",
       "      <td>1980</td>\n",
       "      <td>117450.4</td>\n",
       "    </tr>\n",
       "    <tr>\n",
       "      <th>16</th>\n",
       "      <td>Gulf Oil</td>\n",
       "      <td>1568</td>\n",
       "      <td>1970</td>\n",
       "      <td>114035.5</td>\n",
       "    </tr>\n",
       "    <tr>\n",
       "      <th>17</th>\n",
       "      <td>BP America</td>\n",
       "      <td>2009</td>\n",
       "      <td>1980</td>\n",
       "      <td>105639.3</td>\n",
       "    </tr>\n",
       "    <tr>\n",
       "      <th>18</th>\n",
       "      <td>Shell Oil</td>\n",
       "      <td>1822</td>\n",
       "      <td>1970</td>\n",
       "      <td>66160.6</td>\n",
       "    </tr>\n",
       "    <tr>\n",
       "      <th>19</th>\n",
       "      <td>RCA</td>\n",
       "      <td>1783</td>\n",
       "      <td>1970</td>\n",
       "      <td>45470.4</td>\n",
       "    </tr>\n",
       "    <tr>\n",
       "      <th>20</th>\n",
       "      <td>Intl. Business Machines</td>\n",
       "      <td>965</td>\n",
       "      <td>1960</td>\n",
       "      <td>31718.7</td>\n",
       "    </tr>\n",
       "    <tr>\n",
       "      <th>21</th>\n",
       "      <td>Boeing</td>\n",
       "      <td>703</td>\n",
       "      <td>1960</td>\n",
       "      <td>21010.4</td>\n",
       "    </tr>\n",
       "    <tr>\n",
       "      <th>22</th>\n",
       "      <td>Ford Motor</td>\n",
       "      <td>231</td>\n",
       "      <td>1950</td>\n",
       "      <td>20142.6</td>\n",
       "    </tr>\n",
       "    <tr>\n",
       "      <th>23</th>\n",
       "      <td>Armour</td>\n",
       "      <td>669</td>\n",
       "      <td>1960</td>\n",
       "      <td>19506.5</td>\n",
       "    </tr>\n",
       "    <tr>\n",
       "      <th>24</th>\n",
       "      <td>General Dynamics</td>\n",
       "      <td>884</td>\n",
       "      <td>1960</td>\n",
       "      <td>18940.8</td>\n",
       "    </tr>\n",
       "    <tr>\n",
       "      <th>25</th>\n",
       "      <td>General Telephone &amp; Electronics</td>\n",
       "      <td>894</td>\n",
       "      <td>1960</td>\n",
       "      <td>18006.5</td>\n",
       "    </tr>\n",
       "    <tr>\n",
       "      <th>26</th>\n",
       "      <td>AT&amp;T Technologies</td>\n",
       "      <td>7</td>\n",
       "      <td>1950</td>\n",
       "      <td>10405.7</td>\n",
       "    </tr>\n",
       "    <tr>\n",
       "      <th>27</th>\n",
       "      <td>Texaco</td>\n",
       "      <td>551</td>\n",
       "      <td>1950</td>\n",
       "      <td>10060.1</td>\n",
       "    </tr>\n",
       "    <tr>\n",
       "      <th>28</th>\n",
       "      <td>Amoco</td>\n",
       "      <td>38</td>\n",
       "      <td>1950</td>\n",
       "      <td>9213.0</td>\n",
       "    </tr>\n",
       "    <tr>\n",
       "      <th>29</th>\n",
       "      <td>Kraft</td>\n",
       "      <td>337</td>\n",
       "      <td>1950</td>\n",
       "      <td>6706.9</td>\n",
       "    </tr>\n",
       "  </tbody>\n",
       "</table>\n",
       "</div>"
      ],
      "text/plain": [
       "                            company  index  Decade    revenue\n",
       "0                   Wal-Mart Stores   4314    2000  1373311.0\n",
       "1                       Exxon Mobil   3902    2000  1232291.0\n",
       "2                  General Electric   3067    1990   702142.0\n",
       "3                         Citigroup   3819    2000   609631.0\n",
       "4                     ChevronTexaco   3812    2000   533391.0\n",
       "5                          Chrysler   2890    1990   404854.0\n",
       "6              American Intl. Group   3717    2000   396662.9\n",
       "7                    General Motors   1547    1970   370182.7\n",
       "8                              AT&T   2715    1990   336077.0\n",
       "9                           PepsiCo   3378    1990   242276.3\n",
       "10                    Sears Roebuck   3467    1990   210594.0\n",
       "11                            Mobil   1700    1970   175155.1\n",
       "12              United Technologies   2654    1980   146299.3\n",
       "13                   ITT Industries   2291    1980   126308.9\n",
       "14           Nabisco Group Holdings   2432    1980   123467.8\n",
       "15                     Dow Chemical   2156    1980   117450.4\n",
       "16                         Gulf Oil   1568    1970   114035.5\n",
       "17                       BP America   2009    1980   105639.3\n",
       "18                        Shell Oil   1822    1970    66160.6\n",
       "19                              RCA   1783    1970    45470.4\n",
       "20          Intl. Business Machines    965    1960    31718.7\n",
       "21                           Boeing    703    1960    21010.4\n",
       "22                       Ford Motor    231    1950    20142.6\n",
       "23                           Armour    669    1960    19506.5\n",
       "24                 General Dynamics    884    1960    18940.8\n",
       "25  General Telephone & Electronics    894    1960    18006.5\n",
       "26                AT&T Technologies      7    1950    10405.7\n",
       "27                           Texaco    551    1950    10060.1\n",
       "28                            Amoco     38    1950     9213.0\n",
       "29                            Kraft    337    1950     6706.9"
      ]
     },
     "execution_count": 37,
     "metadata": {},
     "output_type": "execute_result"
    }
   ],
   "source": [
    "asc5"
   ]
  },
  {
   "cell_type": "markdown",
   "id": "0bcc3a12",
   "metadata": {},
   "source": [
    "## Choosing the top 5 by revenue for each \"Decade\""
   ]
  },
  {
   "cell_type": "code",
   "execution_count": 38,
   "id": "2be646cb",
   "metadata": {},
   "outputs": [],
   "source": [
    "top5=asc5.sort_values(by=[\"Decade\"], ascending=True)"
   ]
  },
  {
   "cell_type": "code",
   "execution_count": 39,
   "id": "f55b7160",
   "metadata": {},
   "outputs": [
    {
     "data": {
      "text/html": [
       "<div>\n",
       "<style scoped>\n",
       "    .dataframe tbody tr th:only-of-type {\n",
       "        vertical-align: middle;\n",
       "    }\n",
       "\n",
       "    .dataframe tbody tr th {\n",
       "        vertical-align: top;\n",
       "    }\n",
       "\n",
       "    .dataframe thead th {\n",
       "        text-align: right;\n",
       "    }\n",
       "</style>\n",
       "<table border=\"1\" class=\"dataframe\">\n",
       "  <thead>\n",
       "    <tr style=\"text-align: right;\">\n",
       "      <th></th>\n",
       "      <th>company</th>\n",
       "      <th>index</th>\n",
       "      <th>Decade</th>\n",
       "      <th>revenue</th>\n",
       "    </tr>\n",
       "  </thead>\n",
       "  <tbody>\n",
       "    <tr>\n",
       "      <th>29</th>\n",
       "      <td>Kraft</td>\n",
       "      <td>337</td>\n",
       "      <td>1950</td>\n",
       "      <td>6706.9</td>\n",
       "    </tr>\n",
       "    <tr>\n",
       "      <th>27</th>\n",
       "      <td>Texaco</td>\n",
       "      <td>551</td>\n",
       "      <td>1950</td>\n",
       "      <td>10060.1</td>\n",
       "    </tr>\n",
       "    <tr>\n",
       "      <th>26</th>\n",
       "      <td>AT&amp;T Technologies</td>\n",
       "      <td>7</td>\n",
       "      <td>1950</td>\n",
       "      <td>10405.7</td>\n",
       "    </tr>\n",
       "    <tr>\n",
       "      <th>22</th>\n",
       "      <td>Ford Motor</td>\n",
       "      <td>231</td>\n",
       "      <td>1950</td>\n",
       "      <td>20142.6</td>\n",
       "    </tr>\n",
       "    <tr>\n",
       "      <th>28</th>\n",
       "      <td>Amoco</td>\n",
       "      <td>38</td>\n",
       "      <td>1950</td>\n",
       "      <td>9213.0</td>\n",
       "    </tr>\n",
       "    <tr>\n",
       "      <th>25</th>\n",
       "      <td>General Telephone &amp; Electronics</td>\n",
       "      <td>894</td>\n",
       "      <td>1960</td>\n",
       "      <td>18006.5</td>\n",
       "    </tr>\n",
       "    <tr>\n",
       "      <th>24</th>\n",
       "      <td>General Dynamics</td>\n",
       "      <td>884</td>\n",
       "      <td>1960</td>\n",
       "      <td>18940.8</td>\n",
       "    </tr>\n",
       "    <tr>\n",
       "      <th>23</th>\n",
       "      <td>Armour</td>\n",
       "      <td>669</td>\n",
       "      <td>1960</td>\n",
       "      <td>19506.5</td>\n",
       "    </tr>\n",
       "    <tr>\n",
       "      <th>21</th>\n",
       "      <td>Boeing</td>\n",
       "      <td>703</td>\n",
       "      <td>1960</td>\n",
       "      <td>21010.4</td>\n",
       "    </tr>\n",
       "    <tr>\n",
       "      <th>20</th>\n",
       "      <td>Intl. Business Machines</td>\n",
       "      <td>965</td>\n",
       "      <td>1960</td>\n",
       "      <td>31718.7</td>\n",
       "    </tr>\n",
       "    <tr>\n",
       "      <th>7</th>\n",
       "      <td>General Motors</td>\n",
       "      <td>1547</td>\n",
       "      <td>1970</td>\n",
       "      <td>370182.7</td>\n",
       "    </tr>\n",
       "    <tr>\n",
       "      <th>19</th>\n",
       "      <td>RCA</td>\n",
       "      <td>1783</td>\n",
       "      <td>1970</td>\n",
       "      <td>45470.4</td>\n",
       "    </tr>\n",
       "    <tr>\n",
       "      <th>11</th>\n",
       "      <td>Mobil</td>\n",
       "      <td>1700</td>\n",
       "      <td>1970</td>\n",
       "      <td>175155.1</td>\n",
       "    </tr>\n",
       "    <tr>\n",
       "      <th>18</th>\n",
       "      <td>Shell Oil</td>\n",
       "      <td>1822</td>\n",
       "      <td>1970</td>\n",
       "      <td>66160.6</td>\n",
       "    </tr>\n",
       "    <tr>\n",
       "      <th>16</th>\n",
       "      <td>Gulf Oil</td>\n",
       "      <td>1568</td>\n",
       "      <td>1970</td>\n",
       "      <td>114035.5</td>\n",
       "    </tr>\n",
       "    <tr>\n",
       "      <th>17</th>\n",
       "      <td>BP America</td>\n",
       "      <td>2009</td>\n",
       "      <td>1980</td>\n",
       "      <td>105639.3</td>\n",
       "    </tr>\n",
       "    <tr>\n",
       "      <th>14</th>\n",
       "      <td>Nabisco Group Holdings</td>\n",
       "      <td>2432</td>\n",
       "      <td>1980</td>\n",
       "      <td>123467.8</td>\n",
       "    </tr>\n",
       "    <tr>\n",
       "      <th>13</th>\n",
       "      <td>ITT Industries</td>\n",
       "      <td>2291</td>\n",
       "      <td>1980</td>\n",
       "      <td>126308.9</td>\n",
       "    </tr>\n",
       "    <tr>\n",
       "      <th>12</th>\n",
       "      <td>United Technologies</td>\n",
       "      <td>2654</td>\n",
       "      <td>1980</td>\n",
       "      <td>146299.3</td>\n",
       "    </tr>\n",
       "    <tr>\n",
       "      <th>15</th>\n",
       "      <td>Dow Chemical</td>\n",
       "      <td>2156</td>\n",
       "      <td>1980</td>\n",
       "      <td>117450.4</td>\n",
       "    </tr>\n",
       "    <tr>\n",
       "      <th>10</th>\n",
       "      <td>Sears Roebuck</td>\n",
       "      <td>3467</td>\n",
       "      <td>1990</td>\n",
       "      <td>210594.0</td>\n",
       "    </tr>\n",
       "    <tr>\n",
       "      <th>9</th>\n",
       "      <td>PepsiCo</td>\n",
       "      <td>3378</td>\n",
       "      <td>1990</td>\n",
       "      <td>242276.3</td>\n",
       "    </tr>\n",
       "    <tr>\n",
       "      <th>8</th>\n",
       "      <td>AT&amp;T</td>\n",
       "      <td>2715</td>\n",
       "      <td>1990</td>\n",
       "      <td>336077.0</td>\n",
       "    </tr>\n",
       "    <tr>\n",
       "      <th>5</th>\n",
       "      <td>Chrysler</td>\n",
       "      <td>2890</td>\n",
       "      <td>1990</td>\n",
       "      <td>404854.0</td>\n",
       "    </tr>\n",
       "    <tr>\n",
       "      <th>2</th>\n",
       "      <td>General Electric</td>\n",
       "      <td>3067</td>\n",
       "      <td>1990</td>\n",
       "      <td>702142.0</td>\n",
       "    </tr>\n",
       "    <tr>\n",
       "      <th>6</th>\n",
       "      <td>American Intl. Group</td>\n",
       "      <td>3717</td>\n",
       "      <td>2000</td>\n",
       "      <td>396662.9</td>\n",
       "    </tr>\n",
       "    <tr>\n",
       "      <th>4</th>\n",
       "      <td>ChevronTexaco</td>\n",
       "      <td>3812</td>\n",
       "      <td>2000</td>\n",
       "      <td>533391.0</td>\n",
       "    </tr>\n",
       "    <tr>\n",
       "      <th>3</th>\n",
       "      <td>Citigroup</td>\n",
       "      <td>3819</td>\n",
       "      <td>2000</td>\n",
       "      <td>609631.0</td>\n",
       "    </tr>\n",
       "    <tr>\n",
       "      <th>1</th>\n",
       "      <td>Exxon Mobil</td>\n",
       "      <td>3902</td>\n",
       "      <td>2000</td>\n",
       "      <td>1232291.0</td>\n",
       "    </tr>\n",
       "    <tr>\n",
       "      <th>0</th>\n",
       "      <td>Wal-Mart Stores</td>\n",
       "      <td>4314</td>\n",
       "      <td>2000</td>\n",
       "      <td>1373311.0</td>\n",
       "    </tr>\n",
       "  </tbody>\n",
       "</table>\n",
       "</div>"
      ],
      "text/plain": [
       "                            company  index  Decade    revenue\n",
       "29                            Kraft    337    1950     6706.9\n",
       "27                           Texaco    551    1950    10060.1\n",
       "26                AT&T Technologies      7    1950    10405.7\n",
       "22                       Ford Motor    231    1950    20142.6\n",
       "28                            Amoco     38    1950     9213.0\n",
       "25  General Telephone & Electronics    894    1960    18006.5\n",
       "24                 General Dynamics    884    1960    18940.8\n",
       "23                           Armour    669    1960    19506.5\n",
       "21                           Boeing    703    1960    21010.4\n",
       "20          Intl. Business Machines    965    1960    31718.7\n",
       "7                    General Motors   1547    1970   370182.7\n",
       "19                              RCA   1783    1970    45470.4\n",
       "11                            Mobil   1700    1970   175155.1\n",
       "18                        Shell Oil   1822    1970    66160.6\n",
       "16                         Gulf Oil   1568    1970   114035.5\n",
       "17                       BP America   2009    1980   105639.3\n",
       "14           Nabisco Group Holdings   2432    1980   123467.8\n",
       "13                   ITT Industries   2291    1980   126308.9\n",
       "12              United Technologies   2654    1980   146299.3\n",
       "15                     Dow Chemical   2156    1980   117450.4\n",
       "10                    Sears Roebuck   3467    1990   210594.0\n",
       "9                           PepsiCo   3378    1990   242276.3\n",
       "8                              AT&T   2715    1990   336077.0\n",
       "5                          Chrysler   2890    1990   404854.0\n",
       "2                  General Electric   3067    1990   702142.0\n",
       "6              American Intl. Group   3717    2000   396662.9\n",
       "4                     ChevronTexaco   3812    2000   533391.0\n",
       "3                         Citigroup   3819    2000   609631.0\n",
       "1                       Exxon Mobil   3902    2000  1232291.0\n",
       "0                   Wal-Mart Stores   4314    2000  1373311.0"
      ]
     },
     "execution_count": 39,
     "metadata": {},
     "output_type": "execute_result"
    }
   ],
   "source": [
    "top5"
   ]
  },
  {
   "cell_type": "markdown",
   "id": "d34a3aee",
   "metadata": {},
   "source": [
    "## Plot using Matplotlib"
   ]
  },
  {
   "cell_type": "code",
   "execution_count": 40,
   "id": "d695770d",
   "metadata": {},
   "outputs": [
    {
     "data": {
      "image/png": "[encoded data removed]",
      "text/plain": [
       "<Figure size 864x576 with 1 Axes>"
      ]
     },
     "metadata": {},
     "output_type": "display_data"
    }
   ],
   "source": [
    "plt.figure(figsize=(12, 8))\n",
    "\n",
    "for decade, data in top5.groupby('Decade'):\n",
    "    plt.barh(data['company'], data['revenue'], label=f'{decade}s')\n",
    "\n",
    "plt.xlabel('Revenue from the Top 5 Companies')\n",
    "plt.ylabel('Company')\n",
    "plt.title('Top 5 Companies by Revenue for Each Decade')\n",
    "plt.legend()\n",
    "plt.tight_layout()\n",
    "plt.show()"
   ]
  },
  {
   "cell_type": "markdown",
   "id": "a1eec1ea",
   "metadata": {},
   "source": [
    "The plot above provides us the revenue's overview of the top 5 companies in each decade, showing the changing landscape of corporate revenue over the time. The colors on the plot can show the decade what make easy to visualise each company by decade. The axis x is representing the millions in revenue made by the top companies in the first decade of 2000s, those were the main reason of choosing this type of plot. "
   ]
  },
  {
   "cell_type": "markdown",
   "id": "f7d229bf",
   "metadata": {},
   "source": [
    "____________________________________________________"
   ]
  },
  {
   "cell_type": "markdown",
   "id": "3b84e567",
   "metadata": {},
   "source": [
    "# 4. The following data aims to show an observation of the average revenue by decade "
   ]
  },
  {
   "cell_type": "markdown",
   "id": "69caa4eb",
   "metadata": {},
   "source": [
    "### Using the data stored in asc5 we will group it by \"Decade\" and get the mean of the revenue"
   ]
  },
  {
   "cell_type": "code",
   "execution_count": 41,
   "id": "8ab02fdb",
   "metadata": {},
   "outputs": [],
   "source": [
    "meanbydecade = asc5.groupby('Decade')['revenue'].mean()"
   ]
  },
  {
   "cell_type": "code",
   "execution_count": 42,
   "id": "30a529e5",
   "metadata": {
    "scrolled": true
   },
   "outputs": [
    {
     "data": {
      "text/plain": [
       "Decade\n",
       "1950     11305.66\n",
       "1960     21836.58\n",
       "1970    154200.86\n",
       "1980    123833.14\n",
       "1990    379188.66\n",
       "2000    829057.38\n",
       "Name: revenue, dtype: float64"
      ]
     },
     "execution_count": 42,
     "metadata": {},
     "output_type": "execute_result"
    }
   ],
   "source": [
    "meanbydecade"
   ]
  },
  {
   "cell_type": "markdown",
   "id": "53a0d266",
   "metadata": {},
   "source": [
    "## Create a line plot using Matplotlib"
   ]
  },
  {
   "cell_type": "code",
   "execution_count": 43,
   "id": "1c2dc644",
   "metadata": {},
   "outputs": [
    {
     "data": {
      "image/png": "[encoded data removed]",
      "text/plain": [
       "<Figure size 720x432 with 1 Axes>"
      ]
     },
     "metadata": {},
     "output_type": "display_data"
    }
   ],
   "source": [
    "plt.figure(figsize=(10, 6))\n",
    "plt.plot(meanbydecade.index.astype(str), meanbydecade.values, marker='o', color='skyblue', linewidth=2, markersize=8)\n",
    "plt.xlabel('Decade')\n",
    "plt.ylabel('Mean Revenue')\n",
    "plt.title('Mean Revenue by Decade (Line Plot)')\n",
    "plt.grid(True)\n",
    "plt.show()"
   ]
  },
  {
   "cell_type": "markdown",
   "id": "5e2beb7e",
   "metadata": {},
   "source": [
    "This information shows the average revenue for each decade. As we move from the 1950s to the 2000s, there is a clear upward trend in the mean revenue, indicating a big increase in the average revenue of companies over the decades. The line plot can represents the trend, with each data point indicating the mean revenue value for the decade that it represents.That is one of the reasons that the type of plot was chose so we can see the information growing through the decade."
   ]
  },
  {
   "cell_type": "code",
   "execution_count": null,
   "id": "b9a21f8f",
   "metadata": {},
   "outputs": [],
   "source": []
  }
 ],
 "metadata": {
  "kernelspec": {
   "display_name": "Python 3 (ipykernel)",
   "language": "python",
   "name": "python3"
  },
  "language_info": {
   "codemirror_mode": {
    "name": "ipython",
    "version": 3
   },
   "file_extension": ".py",
   "mimetype": "text/x-python",
   "name": "python",
   "nbconvert_exporter": "python",
   "pygments_lexer": "ipython3",
   "version": "3.9.12"
  }
 },
 "nbformat": 4,
 "nbformat_minor": 5
}
